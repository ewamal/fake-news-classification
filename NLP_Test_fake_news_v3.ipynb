{
    "cells": [
        {
            "cell_type": "markdown",
            "metadata": {},
            "source": [
                "#### 1. Importing Libraries\n"
            ]
        },
        {
            "cell_type": "code",
            "execution_count": 51,
            "metadata": {},
            "outputs": [],
            "source": [
                "import pandas as pd\n",
                "from sklearn.model_selection import train_test_split\n",
                "from sklearn.feature_extraction.text import TfidfVectorizer\n",
                "from nltk.corpus import stopwords\n",
                "from sklearn.feature_extraction.text import CountVectorizer\n",
                "from sklearn.naive_bayes import MultinomialNB\n",
                "from sklearn.metrics import accuracy_score, classification_report, confusion_matrix\n",
                "from sklearn.ensemble import RandomForestClassifier\n",
                "from sklearn.tree import DecisionTreeClassifier\n",
                "from sklearn.neighbors import KNeighborsClassifier\n",
                "from sklearn.svm import SVC\n",
                "from sklearn.model_selection import cross_val_score\n",
                "from sklearn.ensemble import GradientBoostingClassifier\n",
                "from sklearn.linear_model import LogisticRegression\n",
                "from sklearn.model_selection import StratifiedKFold"
            ]
        },
        {
            "cell_type": "markdown",
            "metadata": {},
            "source": [
                "#### 2. Loading the Dataset\n",
                "\n",
                "We load the dataset containing text data and labels. The dataset has two columns:\n",
                "\n",
                "- `label`: Indicates whether the news article is real (1) or fake (0).\n",
                "- `text`: Contains the news article text.\n"
            ]
        },
        {
            "cell_type": "code",
            "execution_count": null,
            "metadata": {},
            "outputs": [],
            "source": [
                "data = pd.read_csv('training_data_lowercase.csv', sep='\\t', names=['label', 'text'])\n",
                "\n",
                "# view data\n",
                "print(data.shape)\n",
                "print (data.head(10))"
            ]
        },
        {
            "cell_type": "markdown",
            "metadata": {},
            "source": [
                "#### 3. Divide the data into training and test\n"
            ]
        },
        {
            "cell_type": "code",
            "execution_count": 53,
            "metadata": {},
            "outputs": [],
            "source": [
                "data_train, data_val = train_test_split(data, test_size=0.2, random_state=44)"
            ]
        },
        {
            "cell_type": "markdown",
            "metadata": {},
            "source": [
                "#### 4. Data Preprocessing\n",
                "\n",
                "We apply several preprocessing steps to clean and prepare the text data for modeling. This includes converting text to lowercase, removing punctuation, digits, and stopwords, and normalizing accented characters.\n"
            ]
        },
        {
            "cell_type": "code",
            "execution_count": null,
            "metadata": {},
            "outputs": [],
            "source": [
                "from utils import remove_and_convert\n",
                "\n",
                "# Apply the function to the data \n",
                "data_train['remove_and_convert'] = data_train['text'].apply(remove_and_convert)\n",
                "data_val['remove_and_convert'] = data_val['text'].apply(remove_and_convert)\n",
                "\n",
                "# Check if the data has been cleaned correctly\n",
                "data_train.head(10)"
            ]
        },
        {
            "cell_type": "markdown",
            "metadata": {},
            "source": [
                "4.1. Remove Stopwords\n",
                "\n",
                "Common English stopwords are removed from the text to focus on important words that carry more meaning.\n"
            ]
        },
        {
            "cell_type": "code",
            "execution_count": 55,
            "metadata": {},
            "outputs": [],
            "source": [
                "from utils import remove_stopwords\n",
                "\n",
                "data_train['remove_stopwords'] = data_train['remove_and_convert'].apply(remove_stopwords)\n",
                "data_val['remove_stopwords'] = data_val['remove_and_convert'].apply(remove_stopwords)"
            ]
        },
        {
            "cell_type": "markdown",
            "metadata": {},
            "source": [
                "4.2. Tokenization\n",
                "\n",
                "We tokenize the text by splitting each sentence into words. This step converts the raw text into a list of words (tokens), which will allow further text processing like stemming or lemmatization.\n"
            ]
        },
        {
            "cell_type": "code",
            "execution_count": null,
            "metadata": {},
            "outputs": [],
            "source": [
                "from utils import tokenizer\n",
                "\n",
                "# Apply the function to the data \n",
                "data_train['tokenize'] = data_train['remove_stopwords'].apply(tokenizer)\n",
                "data_val['tokenize'] = data_val['remove_stopwords'].apply(tokenizer)\n",
                "data_train.head(10)"
            ]
        },
        {
            "cell_type": "markdown",
            "metadata": {},
            "source": [
                "4.3. Stemming\n",
                "\n",
                "We apply stemming to reduce words to their root forms. This helps standardize the text.\n"
            ]
        },
        {
            "cell_type": "code",
            "execution_count": null,
            "metadata": {},
            "outputs": [],
            "source": [
                "from utils import stem_words\n",
                "\n",
                "# Apply stemming \n",
                "data_train['stem_words'] = data_train['tokenize'].apply(stem_words)\n",
                "data_val['stem_words'] = data_val['tokenize'].apply(stem_words)\n",
                "\n",
                "data_train.head(20)"
            ]
        },
        {
            "cell_type": "markdown",
            "metadata": {},
            "source": [
                "4.4. Lemmatization\n"
            ]
        },
        {
            "cell_type": "code",
            "execution_count": null,
            "metadata": {},
            "outputs": [],
            "source": [
                "from utils import lemmatize_words\n",
                "\n",
                "# Apply lemmatization\n",
                "data_train['lemmatize_words'] = data_train['tokenize'].apply(lemmatize_words)\n",
                "data_val['lemmatize_words'] = data_val['tokenize'].apply(lemmatize_words)\n",
                "\n",
                "data_train.head(20)"
            ]
        },
        {
            "cell_type": "markdown",
            "metadata": {},
            "source": [
                "#### 5. Exploratory Analysis\n",
                "\n",
                "Word Frequency Analysis in Real and Fake News\n",
                "\n",
                "In this section, we analyze the most common words in real and fake news articles. We first split the dataset into real and fake news based on their labels, then count the frequency of words in each category. Finally, we display the top 20 most common words for both real and fake news.\n"
            ]
        },
        {
            "cell_type": "code",
            "execution_count": null,
            "metadata": {},
            "outputs": [],
            "source": [
                "from collections import Counter\n",
                "\n",
                "# Split the data into real_news and fake_news messages\n",
                "real_news = data_train[data_train['label'] == 0]['lemmatize_words']\n",
                "fake_news = data_train[data_train['label'] == 1]['lemmatize_words']\n",
                "\n",
                "# Count the frequency of each word in the real_news \n",
                "real_words = Counter(' '.join(real_news).split())\n",
                "\n",
                "# Count the frequency of each word in the fake_news \n",
                "fake_words = Counter(' '.join(fake_news).split())\n",
                "\n",
                "# Get the top 20 words in the ham messages\n",
                "top_real_words = real_words.most_common(20)\n",
                "\n",
                "# Get the top 20 words in the spam messages\n",
                "top_fake_words = fake_words.most_common(20)\n",
                "\n",
                "# Print the results\n",
                "print(\"Top 20 words in real news:\")\n",
                "for word, count in top_real_words:\n",
                "    print(f\"{word}: {count}\")\n",
                "\n",
                "print(\"\\nTop 20 words in fake news:\")\n",
                "for word, count in top_fake_words:\n",
                "    print(f\"{word}: {count}\")"
            ]
        },
        {
            "cell_type": "markdown",
            "metadata": {},
            "source": [
                "#### 6. Feature Engineering\n",
                "\n",
                "6.1 Vectorization\n",
                "\n",
                "Convert data into vectors so that we can apply the it to a classifier, then vectorize the dataset.\n"
            ]
        },
        {
            "cell_type": "code",
            "execution_count": null,
            "metadata": {},
            "outputs": [],
            "source": [
                "# To make Bag of Words work with Count Vectorizer, we will have to combine the messages so that we can convert it to a vector so that we can apply the it to a classifier.\n",
                "# We will join every message in a link them with blank spaces. \".iloc\" is Purely integer-location based indexing for selection by position. \n",
                "\n",
                "headlines = []\n",
                "for row in range(0,len(data_train.index)):\n",
                "    headlines.append(' '.join(str(x) for x in data_train.iloc[row,-2:-1])) # change index to choose column \n",
                "\n",
                "\n",
                "# Predict for the Test Dataset\n",
                "test_transform= []\n",
                "for row in range(0,len(data_val.index)):\n",
                "    test_transform.append(' '.join(str(x) for x in data_val.iloc[row,-2:-1]))\n",
                "\n",
                "\n",
                "print (headlines [1])\n",
                "print (test_transform [1])"
            ]
        },
        {
            "cell_type": "markdown",
            "metadata": {},
            "source": [
                "6.2 Bag of Words with CountVectorizer\n"
            ]
        },
        {
            "cell_type": "code",
            "execution_count": null,
            "metadata": {},
            "outputs": [],
            "source": [
                "# implement BAG OF WORDS with CountVectorizer\n",
                "bow_countvector=CountVectorizer(ngram_range=(1,2)) # (ngram_range=(n,n))\n",
                "\n",
                "# Vectorize the messages dataset\n",
                "bow_traindataset=bow_countvector.fit_transform(headlines)\n",
                "bow_test_dataset = bow_countvector.transform(test_transform)\n",
                "\n",
                "# Print the shape of the vectorized messages\n",
                "print(bow_traindataset.shape)"
            ]
        },
        {
            "cell_type": "markdown",
            "metadata": {},
            "source": [
                "6.3 TD-IDF\n"
            ]
        },
        {
            "cell_type": "code",
            "execution_count": null,
            "metadata": {},
            "outputs": [],
            "source": [
                "# Create a Vectorizer  for TF-IDF\n",
                "tfidfvector = TfidfVectorizer(ngram_range=(1,2))\n",
                "\n",
                "# Vectorize the messages dataset\n",
                "tdidf_traindataset = tfidfvector.fit_transform(headlines)\n",
                "tdidf_test_dataset = tfidfvector.transform(test_transform)\n",
                "\n",
                "# Print the shape of the vectorized messages\n",
                "print(tdidf_test_dataset.shape)"
            ]
        },
        {
            "cell_type": "markdown",
            "metadata": {},
            "source": [
                "#### 7. Implement Classifiers\n"
            ]
        },
        {
            "cell_type": "markdown",
            "metadata": {},
            "source": [
                "7.1 Logistic Regression\n",
                "\n",
                "- **Logistic Regression**: A linear model used for binary classification tasks.\n"
            ]
        },
        {
            "cell_type": "code",
            "execution_count": null,
            "metadata": {},
            "outputs": [],
            "source": [
                "# Fit the Logistic Regression model with bow\n",
                "logreg=LogisticRegression(C=6, penalty='l2', max_iter=150, tol=0.00001, solver='lbfgs')\n",
                "logreg.fit(bow_traindataset,data_train['label'])"
            ]
        },
        {
            "cell_type": "code",
            "execution_count": null,
            "metadata": {},
            "outputs": [],
            "source": [
                "bow_predictions = logreg.predict(bow_test_dataset)\n",
                "print ('Logistic Regression with BOW')\n",
                "\n",
                "# Evaluate the model\n",
                "matrix=confusion_matrix(data_val['label'],bow_predictions)\n",
                "print(matrix)\n",
                "score=accuracy_score(data_val['label'],bow_predictions)\n",
                "print(f'Accuracy score for Logistic Regression with BOW: {score}') \n",
                "report=classification_report(data_val['label'],bow_predictions)\n",
                "print(report)"
            ]
        },
        {
            "cell_type": "code",
            "execution_count": null,
            "metadata": {},
            "outputs": [],
            "source": [
                "# Set up Stratified K-Fold to ensure that class distribution \n",
                "cv = StratifiedKFold(n_splits=10, shuffle=True, random_state=42)\n",
                "\n",
                "# Perform cross-validation (evaluating accuracy)\n",
                "scores = cross_val_score(logreg, bow_traindataset, data_train['label'], cv=cv, scoring='accuracy')\n",
                "\n",
                "# Output the accuracy scores and their mean\n",
                "print(f'Accuracy scores for each of the 10 cross-validation folds: {scores}')\n",
                "print(f'Mean accuracy score: {scores.mean()}')"
            ]
        },
        {
            "cell_type": "code",
            "execution_count": null,
            "metadata": {},
            "outputs": [],
            "source": [
                "# Fit the Logistic Regression model with TF-IDF\n",
                "logreg.fit(tdidf_traindataset,data_train['label'])"
            ]
        },
        {
            "cell_type": "code",
            "execution_count": null,
            "metadata": {},
            "outputs": [],
            "source": [
                "tfidf_predictions = logreg.predict(tdidf_test_dataset) \n",
                "print ('Logistic Regression with TF-IDF') \n",
                "\n",
                "# Evaluate the model\n",
                "matrix=confusion_matrix(data_val['label'],tfidf_predictions)\n",
                "print(matrix)\n",
                "score=accuracy_score(data_val['label'],tfidf_predictions)\n",
                "print(f' Accuracy score for Logistic Regression with TF-IDF: {score}') \n",
                "report=classification_report(data_val['label'],tfidf_predictions)\n",
                "print(report)"
            ]
        },
        {
            "cell_type": "markdown",
            "metadata": {},
            "source": [
                "7.2. Naive Bayes Classifier\n",
                "\n",
                "1. CountVectorizer\n",
                "2. TF-IDF\n"
            ]
        },
        {
            "cell_type": "code",
            "execution_count": null,
            "metadata": {},
            "outputs": [],
            "source": [
                "# Fit the Naive Bayes model with bow\n",
                "naive=MultinomialNB()\n",
                "naive.fit(bow_traindataset,data_train['label'])"
            ]
        },
        {
            "cell_type": "code",
            "execution_count": null,
            "metadata": {},
            "outputs": [],
            "source": [
                "bow_predictions = naive.predict(bow_test_dataset)\n",
                "print ('Naive Bayes with BOW')\n",
                "\n",
                "# Evaluate the model\n",
                "matrix=confusion_matrix(data_val['label'],bow_predictions)\n",
                "print(matrix)\n",
                "score=accuracy_score(data_val['label'],bow_predictions)\n",
                "print(f'Accuracy score for Naive Bayes with BOW: {score}')\n",
                "report=classification_report(data_val['label'],bow_predictions)\n",
                "print(report)"
            ]
        },
        {
            "cell_type": "code",
            "execution_count": null,
            "metadata": {},
            "outputs": [],
            "source": [
                "# Fit the Naive Bayes model with TF-IDF\n",
                "naive.fit(tdidf_traindataset,data_train['label'])"
            ]
        },
        {
            "cell_type": "code",
            "execution_count": null,
            "metadata": {},
            "outputs": [],
            "source": [
                "tfidf_predictions = naive.predict(tdidf_test_dataset)\n",
                "print ('Naive Bayes with TF-IDF')\n",
                "\n",
                "# Evaluate the model\n",
                "matrix=confusion_matrix(data_val['label'],tfidf_predictions)\n",
                "print(matrix)\n",
                "score=accuracy_score(data_val['label'],tfidf_predictions)\n",
                "print(f'Accuracy score for Naive Bayes with TF-IDF: {score}')\n",
                "report=classification_report(data_val['label'],tfidf_predictions)\n",
                "print(report)"
            ]
        },
        {
            "cell_type": "markdown",
            "metadata": {},
            "source": [
                "7.3. Random Forest Classifier\n",
                "\n",
                "1. CountVectorizer\n",
                "2. TF-IDF\n"
            ]
        },
        {
            "cell_type": "code",
            "execution_count": null,
            "metadata": {},
            "outputs": [],
            "source": [
                "# Fit the Random Forest model with bow\n",
                "rf = RandomForestClassifier()\n",
                "rf.fit(bow_traindataset,data_train['label'])"
            ]
        },
        {
            "cell_type": "code",
            "execution_count": null,
            "metadata": {},
            "outputs": [],
            "source": [
                "bow_predictions = rf.predict(bow_test_dataset)\n",
                "print ('Random Forest with BOW')\n",
                "\n",
                "# Evaluate the model\n",
                "matrix=confusion_matrix(data_val['label'],bow_predictions)\n",
                "print(matrix)\n",
                "score=accuracy_score(data_val['label'],bow_predictions)\n",
                "print(f' Accuracy score for Random Forest with BOW: {score}') \n",
                "report=classification_report(data_val['label'],bow_predictions)\n",
                "print(report)"
            ]
        },
        {
            "cell_type": "code",
            "execution_count": null,
            "metadata": {},
            "outputs": [],
            "source": [
                "# Fit the Random Forest model with TF-IDF\n",
                "rf.fit(tdidf_traindataset,data_train['label'])"
            ]
        },
        {
            "cell_type": "code",
            "execution_count": null,
            "metadata": {},
            "outputs": [],
            "source": [
                "tfidf_predictions = rf.predict(tdidf_test_dataset)\n",
                "print ('Random Forest with TF-IDF')\n",
                "# Evaluate the model\n",
                "matrix=confusion_matrix(data_val['label'],tfidf_predictions)\n",
                "print(matrix)\n",
                "score=accuracy_score(data_val['label'],tfidf_predictions)\n",
                "print(f' Accuracy score for Random Forest with TF-IDF: {score}') \n",
                "report=classification_report(data_val['label'],tfidf_predictions)\n",
                "print(report)"
            ]
        },
        {
            "cell_type": "markdown",
            "metadata": {},
            "source": [
                "7.4. Decision Tree Classifier\n",
                "\n",
                "1. CountVectorizer\n",
                "2. TF-IDF\n"
            ]
        },
        {
            "cell_type": "code",
            "execution_count": null,
            "metadata": {},
            "outputs": [],
            "source": [
                "# Fit the Decision Tree model with bow\n",
                "dt = DecisionTreeClassifier()\n",
                "dt.fit(bow_traindataset,data_train['label'])"
            ]
        },
        {
            "cell_type": "code",
            "execution_count": null,
            "metadata": {},
            "outputs": [],
            "source": [
                "bow_predictions = dt.predict(bow_test_dataset)\n",
                "print ('Decision Tree with BOW')\n",
                "\n",
                "# Evaluate the model\n",
                "matrix=confusion_matrix(data_val['label'],bow_predictions)\n",
                "print(matrix)\n",
                "score=accuracy_score(data_val['label'],bow_predictions)\n",
                "print(f'Accuracy score for Decision Tree with BOW: {score}')\n",
                "report=classification_report(data_val['label'],bow_predictions)\n",
                "print(report)"
            ]
        },
        {
            "cell_type": "code",
            "execution_count": null,
            "metadata": {},
            "outputs": [],
            "source": [
                "# Fit the Decision Tree model with TF-IDF\n",
                "dt.fit(tdidf_traindataset,data_train['label'])"
            ]
        },
        {
            "cell_type": "code",
            "execution_count": null,
            "metadata": {},
            "outputs": [],
            "source": [
                "tfidf_predictions = dt.predict(tdidf_test_dataset)\n",
                "print ('Decision Tree with TF-IDF')\n",
                "\n",
                "# Evaluate the model\n",
                "matrix=confusion_matrix(data_val['label'],tfidf_predictions)\n",
                "print(matrix)\n",
                "score=accuracy_score(data_val['label'],tfidf_predictions)\n",
                "print(f'Accuracy score for Decision Tree with TF-IDF: {score}') #print(score)\n",
                "report=classification_report(data_val['label'],tfidf_predictions)\n",
                "print(report)"
            ]
        },
        {
            "cell_type": "markdown",
            "metadata": {},
            "source": [
                "7.5. KNN Classifier\n",
                "\n",
                "1. CountVectorizer\n",
                "2. TF-IDF\n"
            ]
        },
        {
            "cell_type": "code",
            "execution_count": null,
            "metadata": {},
            "outputs": [],
            "source": [
                "# Fit the KNN model with bow\n",
                "knn = KNeighborsClassifier(n_neighbors=3)\n",
                "knn.fit(bow_traindataset,data_train['label'])"
            ]
        },
        {
            "cell_type": "code",
            "execution_count": null,
            "metadata": {},
            "outputs": [],
            "source": [
                "bow_predictions = knn.predict(bow_test_dataset)\n",
                "print ('KNN with BOW')\n",
                "\n",
                "# Evaluate the model\n",
                "matrix=confusion_matrix(data_val['label'],bow_predictions)\n",
                "print(matrix)\n",
                "score=accuracy_score(data_val['label'],bow_predictions)\n",
                "print(f' Accuracy score for KNN with BOW: {score}') \n",
                "report=classification_report(data_val['label'],bow_predictions)\n",
                "print(report)"
            ]
        },
        {
            "cell_type": "code",
            "execution_count": null,
            "metadata": {},
            "outputs": [],
            "source": [
                "# Fit the KNN model with TF-IDF\n",
                "knn.fit(tdidf_traindataset,data_train['label'])"
            ]
        },
        {
            "cell_type": "code",
            "execution_count": null,
            "metadata": {},
            "outputs": [],
            "source": [
                "tfidf_predictions = knn.predict(tdidf_test_dataset)\n",
                "print ('KNN with TF-IDF')\n",
                "# Evaluate the model\n",
                "matrix=confusion_matrix(data_val['label'],tfidf_predictions)\n",
                "print(matrix)\n",
                "score=accuracy_score(data_val['label'],tfidf_predictions)\n",
                "print(f' Accuracy score for KNN with TF-IDF: {score}')\n",
                "report=classification_report(data_val['label'],tfidf_predictions)\n",
                "print(report)"
            ]
        },
        {
            "cell_type": "markdown",
            "metadata": {},
            "source": [
                "7.6. SVM Classifier\n",
                "\n",
                "1. CountVectorizer\n",
                "2. TF-IDF\n"
            ]
        },
        {
            "cell_type": "code",
            "execution_count": null,
            "metadata": {},
            "outputs": [],
            "source": [
                "# Fit the SVM model with TF-IDF\n",
                "svm = SVC()\n",
                "svm.fit(tdidf_traindataset,data_train['label'])"
            ]
        },
        {
            "cell_type": "code",
            "execution_count": null,
            "metadata": {},
            "outputs": [],
            "source": [
                "bow_predictions = svm.predict(bow_test_dataset)\n",
                "print ('SVM with BOW')\n",
                "# Evaluate the model\n",
                "matrix=confusion_matrix(data_val['label'],bow_predictions) # best prediction \n",
                "print(matrix)\n",
                "score=accuracy_score(data_val['label'],bow_predictions)\n",
                "print(f'Accuracy score for SVM with BOW: {score}') \n",
                "report=classification_report(data_val['label'],bow_predictions)\n",
                "print(report)"
            ]
        },
        {
            "cell_type": "code",
            "execution_count": null,
            "metadata": {},
            "outputs": [],
            "source": [
                "# Fit the SVM model with TF-IDF\n",
                "svm = SVC()\n",
                "svm.fit(tdidf_traindataset,data_train['label'])"
            ]
        },
        {
            "cell_type": "code",
            "execution_count": null,
            "metadata": {},
            "outputs": [],
            "source": [
                "tfidf_predictions = svm.predict(tdidf_test_dataset)\n",
                "print ('SVM with TF-IDF')\n",
                "# Evaluate the model\n",
                "matrix=confusion_matrix(data_val['label'],tfidf_predictions)\n",
                "print(matrix)\n",
                "score=accuracy_score(data_val['label'],tfidf_predictions)\n",
                "print(f' Accuracy score for SVM with TF-IDF: {score}') \n",
                "report=classification_report(data_val['label'],tfidf_predictions)\n",
                "print(report)"
            ]
        },
        {
            "cell_type": "markdown",
            "metadata": {},
            "source": [
                "7.7. Super Gradient Boost Classifier\n",
                "\n",
                "1. CountVectorizer\n",
                "2. TF-IDF\n"
            ]
        },
        {
            "cell_type": "code",
            "execution_count": null,
            "metadata": {},
            "outputs": [],
            "source": [
                "# Fit the SGBC Classifier with BOW\n",
                "sgbc = GradientBoostingClassifier()\n",
                "sgbc.fit(bow_traindataset,data_train['label'])"
            ]
        },
        {
            "cell_type": "code",
            "execution_count": null,
            "metadata": {},
            "outputs": [],
            "source": [
                "bow_predictions = sgbc.predict(bow_test_dataset)\n",
                "print ('SGBC with BOW')\n",
                "\n",
                "# Evaluate the model\n",
                "matrix=confusion_matrix(data_val['label'],bow_predictions)\n",
                "print(matrix)\n",
                "score=accuracy_score(data_val['label'],bow_predictions)\n",
                "print(f' Accuracy score for SGBC with BOW: {score}') \n",
                "report=classification_report(data_val['label'],bow_predictions)\n",
                "print(report)"
            ]
        },
        {
            "cell_type": "code",
            "execution_count": null,
            "metadata": {},
            "outputs": [],
            "source": [
                "# Fit the SGBC Classifier with TF-IDF\n",
                "sgbc = GradientBoostingClassifier()\n",
                "sgbc.fit(tdidf_traindataset,data_train['label'])"
            ]
        },
        {
            "cell_type": "code",
            "execution_count": null,
            "metadata": {},
            "outputs": [],
            "source": [
                "tfidf_predictions = sgbc.predict(tdidf_test_dataset)\n",
                "print ('SGBC with TF-IDF')\n",
                "\n",
                "# Evaluate the model\n",
                "matrix=confusion_matrix(data_val['label'],tfidf_predictions)\n",
                "print(matrix)\n",
                "score=accuracy_score(data_val['label'],tfidf_predictions)\n",
                "print(f' Accuracy score for SGBC with TF-IDF: {score}')\n",
                "report=classification_report(data_val['label'],tfidf_predictions)\n",
                "print(report)"
            ]
        },
        {
            "cell_type": "markdown",
            "metadata": {},
            "source": [
                "8. Predicting on the Test Data\n"
            ]
        },
        {
            "cell_type": "code",
            "execution_count": null,
            "metadata": {},
            "outputs": [],
            "source": [
                "# 1. Load the test data\n",
                "data_val = pd.read_csv('testing_data_lowercase_nolabels.csv', sep='\\t', names=['label', 'text'])\n",
                "\n",
                "# 2. Preprocess the test data (transform using the already fitted tfidfvector)\n",
                "test_transform = []\n",
                "for row in range(0, len(data_val.index)):\n",
                "    test_transform.append(' '.join(str(x) for x in data_val.iloc[row, 1:2]))  # Adjust column selection as needed\n",
                "\n",
                "tdidf_test_dataset = tfidfvector.transform(test_transform)\n",
                "\n",
                "# 3. Predict using the already trained model\n",
                "predictions = logreg.predict(tdidf_test_dataset) \n",
                "data_val ['label'] = predictions\n",
                "# 4. Save predictions to a CSV file\n",
                "data_val.to_csv('test_predictions.csv', index=False)\n",
                "\n",
                "# 5. Print the shape of the vectorized test dataset\n",
                "print(tdidf_test_dataset.shape)\n",
                "data_val"
            ]
        }
    ],
    "metadata": {
        "celltoolbar": "Slideshow",
        "kernelspec": {
            "display_name": "Python 3 (ipykernel)",
            "language": "python",
            "name": "python3"
        },
        "language_info": {
            "codemirror_mode": {
                "name": "ipython",
                "version": 3
            },
            "file_extension": ".py",
            "mimetype": "text/x-python",
            "name": "python",
            "nbconvert_exporter": "python",
            "pygments_lexer": "ipython3",
            "version": "3.11.10"
        }
    },
    "nbformat": 4,
    "nbformat_minor": 2
}
