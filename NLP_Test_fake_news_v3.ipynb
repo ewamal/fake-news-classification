{
    "cells": [
        {
            "cell_type": "markdown",
            "metadata": {},
            "source": [
                "#### 1. Importing Libraries\n"
            ]
        },
        {
            "cell_type": "code",
            "execution_count": 1,
            "metadata": {},
            "outputs": [],
            "source": [
                "import pandas as pd\n",
                "from sklearn.model_selection import train_test_split\n",
                "from sklearn.feature_extraction.text import TfidfVectorizer\n",
                "from nltk.corpus import stopwords\n",
                "from sklearn.feature_extraction.text import CountVectorizer\n",
                "from sklearn.naive_bayes import MultinomialNB\n",
                "from sklearn.metrics import accuracy_score, classification_report, confusion_matrix\n",
                "from sklearn.ensemble import RandomForestClassifier\n",
                "from sklearn.tree import DecisionTreeClassifier\n",
                "from sklearn.neighbors import KNeighborsClassifier\n",
                "from sklearn.svm import SVC\n",
                "from sklearn.model_selection import cross_val_score\n",
                "from sklearn.ensemble import GradientBoostingClassifier\n",
                "from sklearn.linear_model import LogisticRegression\n",
                "from sklearn.model_selection import StratifiedKFold"
            ]
        },
        {
            "cell_type": "markdown",
            "metadata": {},
            "source": [
                "#### 2. Loading the Dataset\n",
                "\n",
                "We load the dataset containing text data and labels. The dataset has two columns:\n",
                "\n",
                "- `label`: Indicates whether the news article is real (1) or fake (0).\n",
                "- `text`: Contains the news article text.\n"
            ]
        },
        {
            "cell_type": "code",
            "execution_count": 2,
            "metadata": {},
            "outputs": [
                {
                    "name": "stdout",
                    "output_type": "stream",
                    "text": [
                        "(34152, 2)\n",
                        "   label                                               text\n",
                        "0      0  donald trump sends out embarrassing new year‚s...\n",
                        "1      0  drunk bragging trump staffer started russian c...\n",
                        "2      0  sheriff david clarke becomes an internet joke ...\n",
                        "3      0  trump is so obsessed he even has obama‚s name ...\n",
                        "4      0  pope francis just called out donald trump duri...\n",
                        "5      0  racist alabama cops brutalize black boy while ...\n",
                        "6      0                          fresh off the golf course\n",
                        "7      0  trump said some insanely racist stuff inside t...\n",
                        "8      0   former cia director slams trump over un bullying\n",
                        "9      0  brand-new pro-trump ad features so much a** ki...\n"
                    ]
                }
            ],
            "source": [
                "data = pd.read_csv('training_data_lowercase.csv', sep='\\t', names=['label', 'text'])\n",
                "\n",
                "# view data\n",
                "print(data.shape)\n",
                "print (data.head(10))"
            ]
        },
        {
            "cell_type": "markdown",
            "metadata": {},
            "source": [
                "#### 3. Divide the data into training and test\n"
            ]
        },
        {
            "cell_type": "code",
            "execution_count": 29,
            "metadata": {},
            "outputs": [],
            "source": [
                "data_train, data_val = train_test_split(data, test_size=0.2, random_state=44)"
            ]
        },
        {
            "cell_type": "markdown",
            "metadata": {},
            "source": [
                "#### 4. Data Preprocessing\n",
                "\n",
                "We apply several preprocessing steps to clean and prepare the text data for modeling. This includes converting text to lowercase, removing punctuation, digits, and stopwords, and normalizing accented characters.\n"
            ]
        },
        {
            "cell_type": "code",
            "execution_count": null,
            "metadata": {},
            "outputs": [],
            "source": [
                "from utils import remove_and_convert\n",
                "\n",
                "# Apply the function to the data \n",
                "data_train['remove_and_convert'] = data_train['text'].apply(remove_and_convert)\n",
                "data_val['remove_and_convert'] = data_val['text'].apply(remove_and_convert)\n",
                "\n",
                "# Check if the data has been cleaned correctly\n",
                "data_train.head(10)"
            ]
        },
        {
            "cell_type": "markdown",
            "metadata": {},
            "source": [
                "4.1. Remove Stopwords\n",
                "\n",
                "Common English stopwords are removed from the text to focus on important words that carry more meaning.\n"
            ]
        },
        {
            "cell_type": "code",
            "execution_count": 31,
            "metadata": {},
            "outputs": [],
            "source": [
                "from utils import remove_stopwords\n",
                "\n",
                "data_train['remove_stopwords'] = data_train['remove_and_convert'].apply(remove_stopwords)\n",
                "data_val['remove_stopwords'] = data_val['remove_and_convert'].apply(remove_stopwords)"
            ]
        },
        {
            "cell_type": "markdown",
            "metadata": {},
            "source": [
                "4.2. Tokenization\n",
                "\n",
                "We tokenize the text by splitting each sentence into words. This step converts the raw text into a list of words (tokens), which will allow further text processing like stemming or lemmatization.\n"
            ]
        },
        {
            "cell_type": "code",
            "execution_count": null,
            "metadata": {},
            "outputs": [],
            "source": [
                "from utils import tokenizer\n",
                "\n",
                "# Apply the function to the data \n",
                "data_train['tokenize'] = data_train['remove_stopwords'].apply(tokenizer)\n",
                "data_val['tokenize'] = data_val['remove_stopwords'].apply(tokenizer)\n",
                "data_train.head(10)"
            ]
        },
        {
            "cell_type": "markdown",
            "metadata": {},
            "source": [
                "4.3. Stemming\n",
                "\n",
                "We apply stemming to reduce words to their root forms. This helps standardize the text.\n"
            ]
        },
        {
            "cell_type": "code",
            "execution_count": null,
            "metadata": {},
            "outputs": [],
            "source": [
                "from utils import stem_words\n",
                "\n",
                "# Apply stemming \n",
                "data_train['stem_words'] = data_train['tokenize'].apply(stem_words)\n",
                "data_val['stem_words'] = data_val['tokenize'].apply(stem_words)\n",
                "\n",
                "data_train.head(20)"
            ]
        },
        {
            "cell_type": "markdown",
            "metadata": {},
            "source": [
                "4.4. Lemmatization\n"
            ]
        },
        {
            "cell_type": "code",
            "execution_count": null,
            "metadata": {},
            "outputs": [],
            "source": [
                "from utils import lemmatize_words\n",
                "\n",
                "# Apply lemmatization\n",
                "data_train['lemmatize_words'] = data_train['tokenize'].apply(lemmatize_words)\n",
                "data_val['lemmatize_words'] = data_val['tokenize'].apply(lemmatize_words)\n",
                "\n",
                "data_train.head(20)"
            ]
        },
        {
            "cell_type": "markdown",
            "metadata": {},
            "source": [
                "#### 5. Exploratory Analysis\n",
                "\n",
                "Word Frequency Analysis in Real and Fake News\n",
                "\n",
                "In this section, we analyze the most common words in real and fake news articles. We first split the dataset into real and fake news based on their labels, then count the frequency of words in each category. Finally, we display the top 20 most common words for both real and fake news.\n"
            ]
        },
        {
            "cell_type": "code",
            "execution_count": null,
            "metadata": {},
            "outputs": [],
            "source": [
                "from collections import Counter\n",
                "\n",
                "# Split the data into real_news and fake_news messages\n",
                "real_news = data_train[data_train['label'] == 0]['lemmatize_words']\n",
                "fake_news = data_train[data_train['label'] == 1]['lemmatize_words']\n",
                "\n",
                "# Count the frequency of each word in the real_news \n",
                "real_words = Counter(' '.join(real_news).split())\n",
                "\n",
                "# Count the frequency of each word in the fake_news \n",
                "fake_words = Counter(' '.join(fake_news).split())\n",
                "\n",
                "# Get the top 20 words in the ham messages\n",
                "top_real_words = real_words.most_common(20)\n",
                "\n",
                "# Get the top 20 words in the spam messages\n",
                "top_fake_words = fake_words.most_common(20)\n",
                "\n",
                "# Print the results\n",
                "print(\"Top 20 words in real news:\")\n",
                "for word, count in top_real_words:\n",
                "    print(f\"{word}: {count}\")\n",
                "\n",
                "print(\"\\nTop 20 words in fake news:\")\n",
                "for word, count in top_fake_words:\n",
                "    print(f\"{word}: {count}\")"
            ]
        },
        {
            "cell_type": "markdown",
            "metadata": {},
            "source": [
                "#### 6. Feature Engineering\n",
                "\n",
                "6.1 Vectorization\n",
                "\n",
                "Convert data into vectors so that we can apply the it to a classifier, then vectorize the dataset.\n"
            ]
        },
        {
            "cell_type": "code",
            "execution_count": null,
            "metadata": {},
            "outputs": [],
            "source": [
                "# To make Bag of Words work with Count Vectorizer, we will have to combine the messages so that we can convert it to a vector so that we can apply the it to a classifier.\n",
                "# We will join every message in a link them with blank spaces. \".iloc\" is Purely integer-location based indexing for selection by position. \n",
                "\n",
                "headlines = []\n",
                "for row in range(0,len(data_train.index)):\n",
                "    headlines.append(' '.join(str(x) for x in data_train.iloc[row,-2:-1])) # change index to choose column \n",
                "\n",
                "\n",
                "# Predict for the Test Dataset\n",
                "test_transform= []\n",
                "for row in range(0,len(data_val.index)):\n",
                "    test_transform.append(' '.join(str(x) for x in data_val.iloc[row,-2:-1]))\n",
                "\n",
                "\n",
                "print (headlines [1])\n",
                "print (test_transform [1])"
            ]
        },
        {
            "cell_type": "markdown",
            "metadata": {},
            "source": [
                "6.2 Bag of Words with CountVectorizer\n"
            ]
        },
        {
            "cell_type": "code",
            "execution_count": null,
            "metadata": {},
            "outputs": [],
            "source": [
                "# implement BAG OF WORDS with CountVectorizer\n",
                "bow_countvector=CountVectorizer(ngram_range=(1,2)) # (ngram_range=(n,n))\n",
                "\n",
                "# Vectorize the messages dataset\n",
                "bow_traindataset=bow_countvector.fit_transform(headlines)\n",
                "bow_test_dataset = bow_countvector.transform(test_transform)\n",
                "\n",
                "# Print the shape of the vectorized messages\n",
                "print(bow_traindataset.shape)"
            ]
        },
        {
            "cell_type": "markdown",
            "metadata": {},
            "source": [
                "6.3 TD-IDF\n"
            ]
        },
        {
            "cell_type": "code",
            "execution_count": null,
            "metadata": {},
            "outputs": [],
            "source": [
                "# Create a Vectorizer  for TF-IDF\n",
                "tfidfvector = TfidfVectorizer(ngram_range=(1,2))\n",
                "\n",
                "# Vectorize the messages dataset\n",
                "tdidf_traindataset = tfidfvector.fit_transform(headlines)\n",
                "tdidf_test_dataset = tfidfvector.transform(test_transform)\n",
                "\n",
                "# Print the shape of the vectorized messages\n",
                "print(tdidf_test_dataset.shape)"
            ]
        },
        {
            "cell_type": "markdown",
            "metadata": {},
            "source": [
                "#### 7. Implement Classifiers\n"
            ]
        },
        {
            "cell_type": "markdown",
            "metadata": {},
            "source": [
                "7.1 Logistic Regression\n",
                "\n",
                "- **Logistic Regression**: A linear model used for binary classification tasks.\n"
            ]
        },
        {
            "cell_type": "code",
            "execution_count": null,
            "metadata": {},
            "outputs": [],
            "source": [
                "# Fit the Logistic Regression model with bow\n",
                "logreg=LogisticRegression(C=6, penalty='l2', max_iter=150, tol=0.00001, solver='lbfgs')\n",
                "logreg.fit(bow_traindataset,data_train['label'])"
            ]
        },
        {
            "cell_type": "code",
            "execution_count": null,
            "metadata": {},
            "outputs": [],
            "source": [
                "bow_predictions = logreg.predict(bow_test_dataset)\n",
                "print ('Logistic Regression with BOW')\n",
                "\n",
                "# Evaluate the model\n",
                "matrix=confusion_matrix(data_val['label'],bow_predictions)\n",
                "print(matrix)\n",
                "score=accuracy_score(data_val['label'],bow_predictions)\n",
                "print(f'Accuracy score for Logistic Regression with BOW: {score}') \n",
                "report=classification_report(data_val['label'],bow_predictions)\n",
                "print(report)"
            ]
        },
        {
            "cell_type": "code",
            "execution_count": null,
            "metadata": {},
            "outputs": [],
            "source": [
                "# Set up Stratified K-Fold to ensure that class distribution \n",
                "cv = StratifiedKFold(n_splits=10, shuffle=True, random_state=42)\n",
                "\n",
                "# Perform cross-validation (evaluating accuracy)\n",
                "scores = cross_val_score(logreg, bow_traindataset, data_train['label'], cv=cv, scoring='accuracy')\n",
                "\n",
                "# Output the accuracy scores and their mean\n",
                "print(f'Accuracy scores for each of the 10 cross-validation folds: {scores}')\n",
                "print(f'Mean accuracy score: {scores.mean()}')"
            ]
        },
        {
            "cell_type": "code",
            "execution_count": null,
            "metadata": {},
            "outputs": [],
            "source": [
                "# Fit the Logistic Regression model with TF-IDF\n",
                "logreg.fit(tdidf_traindataset,data_train['label'])"
            ]
        },
        {
            "cell_type": "code",
            "execution_count": null,
            "metadata": {},
            "outputs": [],
            "source": [
                "tfidf_predictions = logreg.predict(tdidf_test_dataset) \n",
                "print ('Logistic Regression with TF-IDF') \n",
                "\n",
                "# Evaluate the model\n",
                "matrix=confusion_matrix(data_val['label'],tfidf_predictions)\n",
                "print(matrix)\n",
                "score=accuracy_score(data_val['label'],tfidf_predictions)\n",
                "print(f' Accuracy score for Logistic Regression with TF-IDF: {score}') \n",
                "report=classification_report(data_val['label'],tfidf_predictions)\n",
                "print(report)"
            ]
        },
        {
            "cell_type": "markdown",
            "metadata": {},
            "source": [
                "7.2. Naive Bayes Classifier\n",
                "\n",
                "1. CountVectorizer\n",
                "2. TF-IDF\n"
            ]
        },
        {
            "cell_type": "code",
            "execution_count": null,
            "metadata": {},
            "outputs": [],
            "source": [
                "# Fit the Naive Bayes model with bow\n",
                "naive=MultinomialNB()\n",
                "naive.fit(bow_traindataset,data_train['label'])"
            ]
        },
        {
            "cell_type": "code",
            "execution_count": null,
            "metadata": {},
            "outputs": [],
            "source": [
                "bow_predictions = naive.predict(bow_test_dataset)\n",
                "print ('Naive Bayes with BOW')\n",
                "\n",
                "# Evaluate the model\n",
                "matrix=confusion_matrix(data_val['label'],bow_predictions)\n",
                "print(matrix)\n",
                "score=accuracy_score(data_val['label'],bow_predictions)\n",
                "print(f'Accuracy score for Naive Bayes with BOW: {score}')\n",
                "report=classification_report(data_val['label'],bow_predictions)\n",
                "print(report)"
            ]
        },
        {
            "cell_type": "code",
            "execution_count": null,
            "metadata": {},
            "outputs": [],
            "source": [
                "# Fit the Naive Bayes model with TF-IDF\n",
                "naive.fit(tdidf_traindataset,data_train['label'])"
            ]
        },
        {
            "cell_type": "code",
            "execution_count": null,
            "metadata": {},
            "outputs": [],
            "source": [
                "tfidf_predictions = naive.predict(tdidf_test_dataset)\n",
                "print ('Naive Bayes with TF-IDF')\n",
                "\n",
                "# Evaluate the model\n",
                "matrix=confusion_matrix(data_val['label'],tfidf_predictions)\n",
                "print(matrix)\n",
                "score=accuracy_score(data_val['label'],tfidf_predictions)\n",
                "print(f'Accuracy score for Naive Bayes with TF-IDF: {score}')\n",
                "report=classification_report(data_val['label'],tfidf_predictions)\n",
                "print(report)"
            ]
        },
        {
            "cell_type": "markdown",
            "metadata": {},
            "source": [
                "7.3. Random Forest Classifier\n",
                "\n",
                "1. CountVectorizer\n",
                "2. TF-IDF\n"
            ]
        },
        {
            "cell_type": "code",
            "execution_count": 48,
            "metadata": {},
            "outputs": [
                {
                    "ename": "KeyboardInterrupt",
                    "evalue": "",
                    "output_type": "error",
                    "traceback": [
                        "\u001b[0;31m---------------------------------------------------------------------------\u001b[0m",
                        "\u001b[0;31mKeyboardInterrupt\u001b[0m                         Traceback (most recent call last)",
                        "Cell \u001b[0;32mIn[48], line 3\u001b[0m\n\u001b[1;32m      1\u001b[0m \u001b[38;5;66;03m# Fit the Random Forest model with bow\u001b[39;00m\n\u001b[1;32m      2\u001b[0m rf \u001b[38;5;241m=\u001b[39m RandomForestClassifier()\n\u001b[0;32m----> 3\u001b[0m \u001b[43mrf\u001b[49m\u001b[38;5;241;43m.\u001b[39;49m\u001b[43mfit\u001b[49m\u001b[43m(\u001b[49m\u001b[43mbow_traindataset\u001b[49m\u001b[43m,\u001b[49m\u001b[43mdata_train\u001b[49m\u001b[43m[\u001b[49m\u001b[38;5;124;43m'\u001b[39;49m\u001b[38;5;124;43mlabel\u001b[39;49m\u001b[38;5;124;43m'\u001b[39;49m\u001b[43m]\u001b[49m\u001b[43m)\u001b[49m\n",
                        "File \u001b[0;32m~/AIbootcamp/projects/project-3/.conda/lib/python3.11/site-packages/sklearn/base.py:1473\u001b[0m, in \u001b[0;36m_fit_context.<locals>.decorator.<locals>.wrapper\u001b[0;34m(estimator, *args, **kwargs)\u001b[0m\n\u001b[1;32m   1466\u001b[0m     estimator\u001b[38;5;241m.\u001b[39m_validate_params()\n\u001b[1;32m   1468\u001b[0m \u001b[38;5;28;01mwith\u001b[39;00m config_context(\n\u001b[1;32m   1469\u001b[0m     skip_parameter_validation\u001b[38;5;241m=\u001b[39m(\n\u001b[1;32m   1470\u001b[0m         prefer_skip_nested_validation \u001b[38;5;129;01mor\u001b[39;00m global_skip_validation\n\u001b[1;32m   1471\u001b[0m     )\n\u001b[1;32m   1472\u001b[0m ):\n\u001b[0;32m-> 1473\u001b[0m     \u001b[38;5;28;01mreturn\u001b[39;00m \u001b[43mfit_method\u001b[49m\u001b[43m(\u001b[49m\u001b[43mestimator\u001b[49m\u001b[43m,\u001b[49m\u001b[43m \u001b[49m\u001b[38;5;241;43m*\u001b[39;49m\u001b[43margs\u001b[49m\u001b[43m,\u001b[49m\u001b[43m \u001b[49m\u001b[38;5;241;43m*\u001b[39;49m\u001b[38;5;241;43m*\u001b[39;49m\u001b[43mkwargs\u001b[49m\u001b[43m)\u001b[49m\n",
                        "File \u001b[0;32m~/AIbootcamp/projects/project-3/.conda/lib/python3.11/site-packages/sklearn/ensemble/_forest.py:489\u001b[0m, in \u001b[0;36mBaseForest.fit\u001b[0;34m(self, X, y, sample_weight)\u001b[0m\n\u001b[1;32m    478\u001b[0m trees \u001b[38;5;241m=\u001b[39m [\n\u001b[1;32m    479\u001b[0m     \u001b[38;5;28mself\u001b[39m\u001b[38;5;241m.\u001b[39m_make_estimator(append\u001b[38;5;241m=\u001b[39m\u001b[38;5;28;01mFalse\u001b[39;00m, random_state\u001b[38;5;241m=\u001b[39mrandom_state)\n\u001b[1;32m    480\u001b[0m     \u001b[38;5;28;01mfor\u001b[39;00m i \u001b[38;5;129;01min\u001b[39;00m \u001b[38;5;28mrange\u001b[39m(n_more_estimators)\n\u001b[1;32m    481\u001b[0m ]\n\u001b[1;32m    483\u001b[0m \u001b[38;5;66;03m# Parallel loop: we prefer the threading backend as the Cython code\u001b[39;00m\n\u001b[1;32m    484\u001b[0m \u001b[38;5;66;03m# for fitting the trees is internally releasing the Python GIL\u001b[39;00m\n\u001b[1;32m    485\u001b[0m \u001b[38;5;66;03m# making threading more efficient than multiprocessing in\u001b[39;00m\n\u001b[1;32m    486\u001b[0m \u001b[38;5;66;03m# that case. However, for joblib 0.12+ we respect any\u001b[39;00m\n\u001b[1;32m    487\u001b[0m \u001b[38;5;66;03m# parallel_backend contexts set at a higher level,\u001b[39;00m\n\u001b[1;32m    488\u001b[0m \u001b[38;5;66;03m# since correctness does not rely on using threads.\u001b[39;00m\n\u001b[0;32m--> 489\u001b[0m trees \u001b[38;5;241m=\u001b[39m \u001b[43mParallel\u001b[49m\u001b[43m(\u001b[49m\n\u001b[1;32m    490\u001b[0m \u001b[43m    \u001b[49m\u001b[43mn_jobs\u001b[49m\u001b[38;5;241;43m=\u001b[39;49m\u001b[38;5;28;43mself\u001b[39;49m\u001b[38;5;241;43m.\u001b[39;49m\u001b[43mn_jobs\u001b[49m\u001b[43m,\u001b[49m\n\u001b[1;32m    491\u001b[0m \u001b[43m    \u001b[49m\u001b[43mverbose\u001b[49m\u001b[38;5;241;43m=\u001b[39;49m\u001b[38;5;28;43mself\u001b[39;49m\u001b[38;5;241;43m.\u001b[39;49m\u001b[43mverbose\u001b[49m\u001b[43m,\u001b[49m\n\u001b[1;32m    492\u001b[0m \u001b[43m    \u001b[49m\u001b[43mprefer\u001b[49m\u001b[38;5;241;43m=\u001b[39;49m\u001b[38;5;124;43m\"\u001b[39;49m\u001b[38;5;124;43mthreads\u001b[39;49m\u001b[38;5;124;43m\"\u001b[39;49m\u001b[43m,\u001b[49m\n\u001b[1;32m    493\u001b[0m \u001b[43m\u001b[49m\u001b[43m)\u001b[49m\u001b[43m(\u001b[49m\n\u001b[1;32m    494\u001b[0m \u001b[43m    \u001b[49m\u001b[43mdelayed\u001b[49m\u001b[43m(\u001b[49m\u001b[43m_parallel_build_trees\u001b[49m\u001b[43m)\u001b[49m\u001b[43m(\u001b[49m\n\u001b[1;32m    495\u001b[0m \u001b[43m        \u001b[49m\u001b[43mt\u001b[49m\u001b[43m,\u001b[49m\n\u001b[1;32m    496\u001b[0m \u001b[43m        \u001b[49m\u001b[38;5;28;43mself\u001b[39;49m\u001b[38;5;241;43m.\u001b[39;49m\u001b[43mbootstrap\u001b[49m\u001b[43m,\u001b[49m\n\u001b[1;32m    497\u001b[0m \u001b[43m        \u001b[49m\u001b[43mX\u001b[49m\u001b[43m,\u001b[49m\n\u001b[1;32m    498\u001b[0m \u001b[43m        \u001b[49m\u001b[43my\u001b[49m\u001b[43m,\u001b[49m\n\u001b[1;32m    499\u001b[0m \u001b[43m        \u001b[49m\u001b[43msample_weight\u001b[49m\u001b[43m,\u001b[49m\n\u001b[1;32m    500\u001b[0m \u001b[43m        \u001b[49m\u001b[43mi\u001b[49m\u001b[43m,\u001b[49m\n\u001b[1;32m    501\u001b[0m \u001b[43m        \u001b[49m\u001b[38;5;28;43mlen\u001b[39;49m\u001b[43m(\u001b[49m\u001b[43mtrees\u001b[49m\u001b[43m)\u001b[49m\u001b[43m,\u001b[49m\n\u001b[1;32m    502\u001b[0m \u001b[43m        \u001b[49m\u001b[43mverbose\u001b[49m\u001b[38;5;241;43m=\u001b[39;49m\u001b[38;5;28;43mself\u001b[39;49m\u001b[38;5;241;43m.\u001b[39;49m\u001b[43mverbose\u001b[49m\u001b[43m,\u001b[49m\n\u001b[1;32m    503\u001b[0m \u001b[43m        \u001b[49m\u001b[43mclass_weight\u001b[49m\u001b[38;5;241;43m=\u001b[39;49m\u001b[38;5;28;43mself\u001b[39;49m\u001b[38;5;241;43m.\u001b[39;49m\u001b[43mclass_weight\u001b[49m\u001b[43m,\u001b[49m\n\u001b[1;32m    504\u001b[0m \u001b[43m        \u001b[49m\u001b[43mn_samples_bootstrap\u001b[49m\u001b[38;5;241;43m=\u001b[39;49m\u001b[43mn_samples_bootstrap\u001b[49m\u001b[43m,\u001b[49m\n\u001b[1;32m    505\u001b[0m \u001b[43m        \u001b[49m\u001b[43mmissing_values_in_feature_mask\u001b[49m\u001b[38;5;241;43m=\u001b[39;49m\u001b[43mmissing_values_in_feature_mask\u001b[49m\u001b[43m,\u001b[49m\n\u001b[1;32m    506\u001b[0m \u001b[43m    \u001b[49m\u001b[43m)\u001b[49m\n\u001b[1;32m    507\u001b[0m \u001b[43m    \u001b[49m\u001b[38;5;28;43;01mfor\u001b[39;49;00m\u001b[43m \u001b[49m\u001b[43mi\u001b[49m\u001b[43m,\u001b[49m\u001b[43m \u001b[49m\u001b[43mt\u001b[49m\u001b[43m \u001b[49m\u001b[38;5;129;43;01min\u001b[39;49;00m\u001b[43m \u001b[49m\u001b[38;5;28;43menumerate\u001b[39;49m\u001b[43m(\u001b[49m\u001b[43mtrees\u001b[49m\u001b[43m)\u001b[49m\n\u001b[1;32m    508\u001b[0m \u001b[43m\u001b[49m\u001b[43m)\u001b[49m\n\u001b[1;32m    510\u001b[0m \u001b[38;5;66;03m# Collect newly grown trees\u001b[39;00m\n\u001b[1;32m    511\u001b[0m \u001b[38;5;28mself\u001b[39m\u001b[38;5;241m.\u001b[39mestimators_\u001b[38;5;241m.\u001b[39mextend(trees)\n",
                        "File \u001b[0;32m~/AIbootcamp/projects/project-3/.conda/lib/python3.11/site-packages/sklearn/utils/parallel.py:74\u001b[0m, in \u001b[0;36mParallel.__call__\u001b[0;34m(self, iterable)\u001b[0m\n\u001b[1;32m     69\u001b[0m config \u001b[38;5;241m=\u001b[39m get_config()\n\u001b[1;32m     70\u001b[0m iterable_with_config \u001b[38;5;241m=\u001b[39m (\n\u001b[1;32m     71\u001b[0m     (_with_config(delayed_func, config), args, kwargs)\n\u001b[1;32m     72\u001b[0m     \u001b[38;5;28;01mfor\u001b[39;00m delayed_func, args, kwargs \u001b[38;5;129;01min\u001b[39;00m iterable\n\u001b[1;32m     73\u001b[0m )\n\u001b[0;32m---> 74\u001b[0m \u001b[38;5;28;01mreturn\u001b[39;00m \u001b[38;5;28;43msuper\u001b[39;49m\u001b[43m(\u001b[49m\u001b[43m)\u001b[49m\u001b[38;5;241;43m.\u001b[39;49m\u001b[38;5;21;43m__call__\u001b[39;49m\u001b[43m(\u001b[49m\u001b[43miterable_with_config\u001b[49m\u001b[43m)\u001b[49m\n",
                        "File \u001b[0;32m~/AIbootcamp/projects/project-3/.conda/lib/python3.11/site-packages/joblib/parallel.py:1918\u001b[0m, in \u001b[0;36mParallel.__call__\u001b[0;34m(self, iterable)\u001b[0m\n\u001b[1;32m   1916\u001b[0m     output \u001b[38;5;241m=\u001b[39m \u001b[38;5;28mself\u001b[39m\u001b[38;5;241m.\u001b[39m_get_sequential_output(iterable)\n\u001b[1;32m   1917\u001b[0m     \u001b[38;5;28mnext\u001b[39m(output)\n\u001b[0;32m-> 1918\u001b[0m     \u001b[38;5;28;01mreturn\u001b[39;00m output \u001b[38;5;28;01mif\u001b[39;00m \u001b[38;5;28mself\u001b[39m\u001b[38;5;241m.\u001b[39mreturn_generator \u001b[38;5;28;01melse\u001b[39;00m \u001b[38;5;28mlist\u001b[39m(output)\n\u001b[1;32m   1920\u001b[0m \u001b[38;5;66;03m# Let's create an ID that uniquely identifies the current call. If the\u001b[39;00m\n\u001b[1;32m   1921\u001b[0m \u001b[38;5;66;03m# call is interrupted early and that the same instance is immediately\u001b[39;00m\n\u001b[1;32m   1922\u001b[0m \u001b[38;5;66;03m# re-used, this id will be used to prevent workers that were\u001b[39;00m\n\u001b[1;32m   1923\u001b[0m \u001b[38;5;66;03m# concurrently finalizing a task from the previous call to run the\u001b[39;00m\n\u001b[1;32m   1924\u001b[0m \u001b[38;5;66;03m# callback.\u001b[39;00m\n\u001b[1;32m   1925\u001b[0m \u001b[38;5;28;01mwith\u001b[39;00m \u001b[38;5;28mself\u001b[39m\u001b[38;5;241m.\u001b[39m_lock:\n",
                        "File \u001b[0;32m~/AIbootcamp/projects/project-3/.conda/lib/python3.11/site-packages/joblib/parallel.py:1847\u001b[0m, in \u001b[0;36mParallel._get_sequential_output\u001b[0;34m(self, iterable)\u001b[0m\n\u001b[1;32m   1845\u001b[0m \u001b[38;5;28mself\u001b[39m\u001b[38;5;241m.\u001b[39mn_dispatched_batches \u001b[38;5;241m+\u001b[39m\u001b[38;5;241m=\u001b[39m \u001b[38;5;241m1\u001b[39m\n\u001b[1;32m   1846\u001b[0m \u001b[38;5;28mself\u001b[39m\u001b[38;5;241m.\u001b[39mn_dispatched_tasks \u001b[38;5;241m+\u001b[39m\u001b[38;5;241m=\u001b[39m \u001b[38;5;241m1\u001b[39m\n\u001b[0;32m-> 1847\u001b[0m res \u001b[38;5;241m=\u001b[39m \u001b[43mfunc\u001b[49m\u001b[43m(\u001b[49m\u001b[38;5;241;43m*\u001b[39;49m\u001b[43margs\u001b[49m\u001b[43m,\u001b[49m\u001b[43m \u001b[49m\u001b[38;5;241;43m*\u001b[39;49m\u001b[38;5;241;43m*\u001b[39;49m\u001b[43mkwargs\u001b[49m\u001b[43m)\u001b[49m\n\u001b[1;32m   1848\u001b[0m \u001b[38;5;28mself\u001b[39m\u001b[38;5;241m.\u001b[39mn_completed_tasks \u001b[38;5;241m+\u001b[39m\u001b[38;5;241m=\u001b[39m \u001b[38;5;241m1\u001b[39m\n\u001b[1;32m   1849\u001b[0m \u001b[38;5;28mself\u001b[39m\u001b[38;5;241m.\u001b[39mprint_progress()\n",
                        "File \u001b[0;32m~/AIbootcamp/projects/project-3/.conda/lib/python3.11/site-packages/sklearn/utils/parallel.py:136\u001b[0m, in \u001b[0;36m_FuncWrapper.__call__\u001b[0;34m(self, *args, **kwargs)\u001b[0m\n\u001b[1;32m    134\u001b[0m     config \u001b[38;5;241m=\u001b[39m {}\n\u001b[1;32m    135\u001b[0m \u001b[38;5;28;01mwith\u001b[39;00m config_context(\u001b[38;5;241m*\u001b[39m\u001b[38;5;241m*\u001b[39mconfig):\n\u001b[0;32m--> 136\u001b[0m     \u001b[38;5;28;01mreturn\u001b[39;00m \u001b[38;5;28;43mself\u001b[39;49m\u001b[38;5;241;43m.\u001b[39;49m\u001b[43mfunction\u001b[49m\u001b[43m(\u001b[49m\u001b[38;5;241;43m*\u001b[39;49m\u001b[43margs\u001b[49m\u001b[43m,\u001b[49m\u001b[43m \u001b[49m\u001b[38;5;241;43m*\u001b[39;49m\u001b[38;5;241;43m*\u001b[39;49m\u001b[43mkwargs\u001b[49m\u001b[43m)\u001b[49m\n",
                        "File \u001b[0;32m~/AIbootcamp/projects/project-3/.conda/lib/python3.11/site-packages/sklearn/ensemble/_forest.py:192\u001b[0m, in \u001b[0;36m_parallel_build_trees\u001b[0;34m(tree, bootstrap, X, y, sample_weight, tree_idx, n_trees, verbose, class_weight, n_samples_bootstrap, missing_values_in_feature_mask)\u001b[0m\n\u001b[1;32m    189\u001b[0m     \u001b[38;5;28;01melif\u001b[39;00m class_weight \u001b[38;5;241m==\u001b[39m \u001b[38;5;124m\"\u001b[39m\u001b[38;5;124mbalanced_subsample\u001b[39m\u001b[38;5;124m\"\u001b[39m:\n\u001b[1;32m    190\u001b[0m         curr_sample_weight \u001b[38;5;241m*\u001b[39m\u001b[38;5;241m=\u001b[39m compute_sample_weight(\u001b[38;5;124m\"\u001b[39m\u001b[38;5;124mbalanced\u001b[39m\u001b[38;5;124m\"\u001b[39m, y, indices\u001b[38;5;241m=\u001b[39mindices)\n\u001b[0;32m--> 192\u001b[0m     \u001b[43mtree\u001b[49m\u001b[38;5;241;43m.\u001b[39;49m\u001b[43m_fit\u001b[49m\u001b[43m(\u001b[49m\n\u001b[1;32m    193\u001b[0m \u001b[43m        \u001b[49m\u001b[43mX\u001b[49m\u001b[43m,\u001b[49m\n\u001b[1;32m    194\u001b[0m \u001b[43m        \u001b[49m\u001b[43my\u001b[49m\u001b[43m,\u001b[49m\n\u001b[1;32m    195\u001b[0m \u001b[43m        \u001b[49m\u001b[43msample_weight\u001b[49m\u001b[38;5;241;43m=\u001b[39;49m\u001b[43mcurr_sample_weight\u001b[49m\u001b[43m,\u001b[49m\n\u001b[1;32m    196\u001b[0m \u001b[43m        \u001b[49m\u001b[43mcheck_input\u001b[49m\u001b[38;5;241;43m=\u001b[39;49m\u001b[38;5;28;43;01mFalse\u001b[39;49;00m\u001b[43m,\u001b[49m\n\u001b[1;32m    197\u001b[0m \u001b[43m        \u001b[49m\u001b[43mmissing_values_in_feature_mask\u001b[49m\u001b[38;5;241;43m=\u001b[39;49m\u001b[43mmissing_values_in_feature_mask\u001b[49m\u001b[43m,\u001b[49m\n\u001b[1;32m    198\u001b[0m \u001b[43m    \u001b[49m\u001b[43m)\u001b[49m\n\u001b[1;32m    199\u001b[0m \u001b[38;5;28;01melse\u001b[39;00m:\n\u001b[1;32m    200\u001b[0m     tree\u001b[38;5;241m.\u001b[39m_fit(\n\u001b[1;32m    201\u001b[0m         X,\n\u001b[1;32m    202\u001b[0m         y,\n\u001b[0;32m   (...)\u001b[0m\n\u001b[1;32m    205\u001b[0m         missing_values_in_feature_mask\u001b[38;5;241m=\u001b[39mmissing_values_in_feature_mask,\n\u001b[1;32m    206\u001b[0m     )\n",
                        "File \u001b[0;32m~/AIbootcamp/projects/project-3/.conda/lib/python3.11/site-packages/sklearn/tree/_classes.py:472\u001b[0m, in \u001b[0;36mBaseDecisionTree._fit\u001b[0;34m(self, X, y, sample_weight, check_input, missing_values_in_feature_mask)\u001b[0m\n\u001b[1;32m    461\u001b[0m \u001b[38;5;28;01melse\u001b[39;00m:\n\u001b[1;32m    462\u001b[0m     builder \u001b[38;5;241m=\u001b[39m BestFirstTreeBuilder(\n\u001b[1;32m    463\u001b[0m         splitter,\n\u001b[1;32m    464\u001b[0m         min_samples_split,\n\u001b[0;32m   (...)\u001b[0m\n\u001b[1;32m    469\u001b[0m         \u001b[38;5;28mself\u001b[39m\u001b[38;5;241m.\u001b[39mmin_impurity_decrease,\n\u001b[1;32m    470\u001b[0m     )\n\u001b[0;32m--> 472\u001b[0m \u001b[43mbuilder\u001b[49m\u001b[38;5;241;43m.\u001b[39;49m\u001b[43mbuild\u001b[49m\u001b[43m(\u001b[49m\u001b[38;5;28;43mself\u001b[39;49m\u001b[38;5;241;43m.\u001b[39;49m\u001b[43mtree_\u001b[49m\u001b[43m,\u001b[49m\u001b[43m \u001b[49m\u001b[43mX\u001b[49m\u001b[43m,\u001b[49m\u001b[43m \u001b[49m\u001b[43my\u001b[49m\u001b[43m,\u001b[49m\u001b[43m \u001b[49m\u001b[43msample_weight\u001b[49m\u001b[43m,\u001b[49m\u001b[43m \u001b[49m\u001b[43mmissing_values_in_feature_mask\u001b[49m\u001b[43m)\u001b[49m\n\u001b[1;32m    474\u001b[0m \u001b[38;5;28;01mif\u001b[39;00m \u001b[38;5;28mself\u001b[39m\u001b[38;5;241m.\u001b[39mn_outputs_ \u001b[38;5;241m==\u001b[39m \u001b[38;5;241m1\u001b[39m \u001b[38;5;129;01mand\u001b[39;00m is_classifier(\u001b[38;5;28mself\u001b[39m):\n\u001b[1;32m    475\u001b[0m     \u001b[38;5;28mself\u001b[39m\u001b[38;5;241m.\u001b[39mn_classes_ \u001b[38;5;241m=\u001b[39m \u001b[38;5;28mself\u001b[39m\u001b[38;5;241m.\u001b[39mn_classes_[\u001b[38;5;241m0\u001b[39m]\n",
                        "\u001b[0;31mKeyboardInterrupt\u001b[0m: "
                    ]
                }
            ],
            "source": [
                "# Fit the Random Forest model with bow\n",
                "rf = RandomForestClassifier()\n",
                "rf.fit(bow_traindataset,data_train['label'])"
            ]
        },
        {
            "cell_type": "code",
            "execution_count": null,
            "metadata": {},
            "outputs": [],
            "source": [
                "bow_predictions = rf.predict(bow_test_dataset)\n",
                "print ('Random Forest with BOW')\n",
                "\n",
                "# Evaluate the model\n",
                "matrix=confusion_matrix(data_val['label'],bow_predictions)\n",
                "print(matrix)\n",
                "score=accuracy_score(data_val['label'],bow_predictions)\n",
                "print(f' Accuracy score for Random Forest with BOW: {score}') \n",
                "report=classification_report(data_val['label'],bow_predictions)\n",
                "print(report)"
            ]
        },
        {
            "cell_type": "code",
            "execution_count": null,
            "metadata": {},
            "outputs": [],
            "source": [
                "# Fit the Random Forest model with TF-IDF\n",
                "rf.fit(tdidf_traindataset,data_train['label'])"
            ]
        },
        {
            "cell_type": "code",
            "execution_count": null,
            "metadata": {},
            "outputs": [],
            "source": [
                "tfidf_predictions = rf.predict(tdidf_test_dataset)\n",
                "print ('Random Forest with TF-IDF')\n",
                "# Evaluate the model\n",
                "matrix=confusion_matrix(data_val['label'],tfidf_predictions)\n",
                "print(matrix)\n",
                "score=accuracy_score(data_val['label'],tfidf_predictions)\n",
                "print(f' Accuracy score for Random Forest with TF-IDF: {score}') \n",
                "report=classification_report(data_val['label'],tfidf_predictions)\n",
                "print(report)"
            ]
        },
        {
            "cell_type": "markdown",
            "metadata": {},
            "source": [
                "7.4. Decision Tree Classifier\n",
                "\n",
                "1. CountVectorizer\n",
                "2. TF-IDF\n"
            ]
        },
        {
            "cell_type": "code",
            "execution_count": null,
            "metadata": {},
            "outputs": [],
            "source": [
                "# Fit the Decision Tree model with bow\n",
                "dt = DecisionTreeClassifier()\n",
                "dt.fit(bow_traindataset,data_train['label'])"
            ]
        },
        {
            "cell_type": "code",
            "execution_count": null,
            "metadata": {},
            "outputs": [],
            "source": [
                "bow_predictions = dt.predict(bow_test_dataset)\n",
                "print ('Decision Tree with BOW')\n",
                "\n",
                "# Evaluate the model\n",
                "matrix=confusion_matrix(data_val['label'],bow_predictions)\n",
                "print(matrix)\n",
                "score=accuracy_score(data_val['label'],bow_predictions)\n",
                "print(f'Accuracy score for Decision Tree with BOW: {score}')\n",
                "report=classification_report(data_val['label'],bow_predictions)\n",
                "print(report)"
            ]
        },
        {
            "cell_type": "code",
            "execution_count": null,
            "metadata": {},
            "outputs": [],
            "source": [
                "# Fit the Decision Tree model with TF-IDF\n",
                "dt.fit(tdidf_traindataset,data_train['label'])"
            ]
        },
        {
            "cell_type": "code",
            "execution_count": null,
            "metadata": {},
            "outputs": [],
            "source": [
                "tfidf_predictions = dt.predict(tdidf_test_dataset)\n",
                "print ('Decision Tree with TF-IDF')\n",
                "\n",
                "# Evaluate the model\n",
                "matrix=confusion_matrix(data_val['label'],tfidf_predictions)\n",
                "print(matrix)\n",
                "score=accuracy_score(data_val['label'],tfidf_predictions)\n",
                "print(f'Accuracy score for Decision Tree with TF-IDF: {score}') #print(score)\n",
                "report=classification_report(data_val['label'],tfidf_predictions)\n",
                "print(report)"
            ]
        },
        {
            "cell_type": "markdown",
            "metadata": {},
            "source": [
                "7.5. KNN Classifier\n",
                "\n",
                "1. CountVectorizer\n",
                "2. TF-IDF\n"
            ]
        },
        {
            "cell_type": "code",
            "execution_count": null,
            "metadata": {},
            "outputs": [],
            "source": [
                "# Fit the KNN model with bow\n",
                "knn = KNeighborsClassifier(n_neighbors=3)\n",
                "knn.fit(bow_traindataset,data_train['label'])"
            ]
        },
        {
            "cell_type": "code",
            "execution_count": null,
            "metadata": {},
            "outputs": [],
            "source": [
                "bow_predictions = knn.predict(bow_test_dataset)\n",
                "print ('KNN with BOW')\n",
                "\n",
                "# Evaluate the model\n",
                "matrix=confusion_matrix(data_val['label'],bow_predictions)\n",
                "print(matrix)\n",
                "score=accuracy_score(data_val['label'],bow_predictions)\n",
                "print(f' Accuracy score for KNN with BOW: {score}') \n",
                "report=classification_report(data_val['label'],bow_predictions)\n",
                "print(report)"
            ]
        },
        {
            "cell_type": "code",
            "execution_count": null,
            "metadata": {},
            "outputs": [],
            "source": [
                "# Fit the KNN model with TF-IDF\n",
                "knn.fit(tdidf_traindataset,data_train['label'])"
            ]
        },
        {
            "cell_type": "code",
            "execution_count": null,
            "metadata": {},
            "outputs": [],
            "source": [
                "tfidf_predictions = knn.predict(tdidf_test_dataset)\n",
                "print ('KNN with TF-IDF')\n",
                "# Evaluate the model\n",
                "matrix=confusion_matrix(data_val['label'],tfidf_predictions)\n",
                "print(matrix)\n",
                "score=accuracy_score(data_val['label'],tfidf_predictions)\n",
                "print(f' Accuracy score for KNN with TF-IDF: {score}')\n",
                "report=classification_report(data_val['label'],tfidf_predictions)\n",
                "print(report)"
            ]
        },
        {
            "cell_type": "markdown",
            "metadata": {},
            "source": [
                "7.6. SVM Classifier\n",
                "\n",
                "1. CountVectorizer\n",
                "2. TF-IDF\n"
            ]
        },
        {
            "cell_type": "code",
            "execution_count": null,
            "metadata": {},
            "outputs": [],
            "source": [
                "# Fit the SVM model with TF-IDF\n",
                "svm = SVC()\n",
                "svm.fit(tdidf_traindataset,data_train['label'])"
            ]
        },
        {
            "cell_type": "code",
            "execution_count": null,
            "metadata": {},
            "outputs": [],
            "source": [
                "bow_predictions = svm.predict(bow_test_dataset)\n",
                "print ('SVM with BOW')\n",
                "# Evaluate the model\n",
                "matrix=confusion_matrix(data_val['label'],bow_predictions) # best prediction \n",
                "print(matrix)\n",
                "score=accuracy_score(data_val['label'],bow_predictions)\n",
                "print(f'Accuracy score for SVM with BOW: {score}') \n",
                "report=classification_report(data_val['label'],bow_predictions)\n",
                "print(report)"
            ]
        },
        {
            "cell_type": "code",
            "execution_count": null,
            "metadata": {},
            "outputs": [],
            "source": [
                "# Fit the SVM model with TF-IDF\n",
                "svm = SVC()\n",
                "svm.fit(tdidf_traindataset,data_train['label'])"
            ]
        },
        {
            "cell_type": "code",
            "execution_count": null,
            "metadata": {},
            "outputs": [],
            "source": [
                "tfidf_predictions = svm.predict(tdidf_test_dataset)\n",
                "print ('SVM with TF-IDF')\n",
                "# Evaluate the model\n",
                "matrix=confusion_matrix(data_val['label'],tfidf_predictions)\n",
                "print(matrix)\n",
                "score=accuracy_score(data_val['label'],tfidf_predictions)\n",
                "print(f' Accuracy score for SVM with TF-IDF: {score}') \n",
                "report=classification_report(data_val['label'],tfidf_predictions)\n",
                "print(report)"
            ]
        },
        {
            "cell_type": "markdown",
            "metadata": {},
            "source": [
                "7.7. Super Gradient Boost Classifier\n",
                "\n",
                "1. CountVectorizer\n",
                "2. TF-IDF\n"
            ]
        },
        {
            "cell_type": "code",
            "execution_count": null,
            "metadata": {},
            "outputs": [],
            "source": [
                "# Fit the SGBC Classifier with BOW\n",
                "sgbc = GradientBoostingClassifier()\n",
                "sgbc.fit(bow_traindataset,data_train['label'])"
            ]
        },
        {
            "cell_type": "code",
            "execution_count": null,
            "metadata": {},
            "outputs": [],
            "source": [
                "bow_predictions = sgbc.predict(bow_test_dataset)\n",
                "print ('SGBC with BOW')\n",
                "\n",
                "# Evaluate the model\n",
                "matrix=confusion_matrix(data_val['label'],bow_predictions)\n",
                "print(matrix)\n",
                "score=accuracy_score(data_val['label'],bow_predictions)\n",
                "print(f' Accuracy score for SGBC with BOW: {score}') \n",
                "report=classification_report(data_val['label'],bow_predictions)\n",
                "print(report)"
            ]
        },
        {
            "cell_type": "code",
            "execution_count": null,
            "metadata": {},
            "outputs": [],
            "source": [
                "# Fit the SGBC Classifier with TF-IDF\n",
                "sgbc = GradientBoostingClassifier()\n",
                "sgbc.fit(tdidf_traindataset,data_train['label'])"
            ]
        },
        {
            "cell_type": "code",
            "execution_count": null,
            "metadata": {},
            "outputs": [],
            "source": [
                "tfidf_predictions = sgbc.predict(tdidf_test_dataset)\n",
                "print ('SGBC with TF-IDF')\n",
                "\n",
                "# Evaluate the model\n",
                "matrix=confusion_matrix(data_val['label'],tfidf_predictions)\n",
                "print(matrix)\n",
                "score=accuracy_score(data_val['label'],tfidf_predictions)\n",
                "print(f' Accuracy score for SGBC with TF-IDF: {score}')\n",
                "report=classification_report(data_val['label'],tfidf_predictions)\n",
                "print(report)"
            ]
        }
    ],
    "metadata": {
        "celltoolbar": "Slideshow",
        "kernelspec": {
            "display_name": "Python 3 (ipykernel)",
            "language": "python",
            "name": "python3"
        },
        "language_info": {
            "codemirror_mode": {
                "name": "ipython",
                "version": 3
            },
            "file_extension": ".py",
            "mimetype": "text/x-python",
            "name": "python",
            "nbconvert_exporter": "python",
            "pygments_lexer": "ipython3",
            "version": "3.11.10"
        }
    },
    "nbformat": 4,
    "nbformat_minor": 2
}
